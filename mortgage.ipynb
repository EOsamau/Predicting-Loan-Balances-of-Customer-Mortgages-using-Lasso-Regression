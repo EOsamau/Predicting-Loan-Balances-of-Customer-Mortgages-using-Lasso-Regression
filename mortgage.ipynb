{
 "cells": [
  {
   "cell_type": "markdown",
   "metadata": {},
   "source": [
    "# Time-Enhanced ML Regression for Predicting Loan Balances of 50,000 residential U.S. mortgage borrowers.\n",
    "\n",
    "\n",
    "This project aims to analyze borrower behavior and loan performance using financial datasets to develop a predictive model. The dataset includes a variety of borrower, loan, and macroeconomic factors, such as loan-to-value ratios, interest rates, house price indices, and credit scores, which influence loan repayment dynamics over time. The primary goal is to use regression to predict the outstanding loan balance at any given observation time. By identifying the key factors that affect the loan balance, this model could help financial institutions better understand loan risk profiles and enhance their decision-making regarding borrower management and loan performance assessment."
   ]
  },
  {
   "cell_type": "code",
   "execution_count": 1,
   "metadata": {},
   "outputs": [],
   "source": [
    "#Libraries\n",
    "import pandas as pd\n",
    "import plotly.express as px\n",
    "import matplotlib.pyplot as plt\n",
    "import warnings #warnings"
   ]
  },
  {
   "cell_type": "code",
   "execution_count": 2,
   "metadata": {},
   "outputs": [
    {
     "data": {
      "text/html": [
       "<div>\n",
       "<style scoped>\n",
       "    .dataframe tbody tr th:only-of-type {\n",
       "        vertical-align: middle;\n",
       "    }\n",
       "\n",
       "    .dataframe tbody tr th {\n",
       "        vertical-align: top;\n",
       "    }\n",
       "\n",
       "    .dataframe thead th {\n",
       "        text-align: right;\n",
       "    }\n",
       "</style>\n",
       "<table border=\"1\" class=\"dataframe\">\n",
       "  <thead>\n",
       "    <tr style=\"text-align: right;\">\n",
       "      <th></th>\n",
       "      <th>id</th>\n",
       "      <th>time</th>\n",
       "      <th>orig_time</th>\n",
       "      <th>first_time</th>\n",
       "      <th>mat_time</th>\n",
       "      <th>balance_time</th>\n",
       "      <th>LTV_time</th>\n",
       "      <th>interest_rate_time</th>\n",
       "      <th>hpi_time</th>\n",
       "      <th>gdp_time</th>\n",
       "      <th>...</th>\n",
       "      <th>REtype_SF_orig_time</th>\n",
       "      <th>investor_orig_time</th>\n",
       "      <th>balance_orig_time</th>\n",
       "      <th>FICO_orig_time</th>\n",
       "      <th>LTV_orig_time</th>\n",
       "      <th>Interest_Rate_orig_time</th>\n",
       "      <th>hpi_orig_time</th>\n",
       "      <th>default_time</th>\n",
       "      <th>payoff_time</th>\n",
       "      <th>status_time</th>\n",
       "    </tr>\n",
       "  </thead>\n",
       "  <tbody>\n",
       "    <tr>\n",
       "      <th>0</th>\n",
       "      <td>1</td>\n",
       "      <td>25</td>\n",
       "      <td>-7</td>\n",
       "      <td>25</td>\n",
       "      <td>113</td>\n",
       "      <td>41303.42</td>\n",
       "      <td>24.498336</td>\n",
       "      <td>9.2</td>\n",
       "      <td>226.29</td>\n",
       "      <td>2.899137</td>\n",
       "      <td>...</td>\n",
       "      <td>1</td>\n",
       "      <td>0</td>\n",
       "      <td>45000.0</td>\n",
       "      <td>715</td>\n",
       "      <td>69.4</td>\n",
       "      <td>9.2</td>\n",
       "      <td>87.03</td>\n",
       "      <td>0</td>\n",
       "      <td>0</td>\n",
       "      <td>0</td>\n",
       "    </tr>\n",
       "    <tr>\n",
       "      <th>1</th>\n",
       "      <td>1</td>\n",
       "      <td>26</td>\n",
       "      <td>-7</td>\n",
       "      <td>25</td>\n",
       "      <td>113</td>\n",
       "      <td>41061.95</td>\n",
       "      <td>24.483867</td>\n",
       "      <td>9.2</td>\n",
       "      <td>225.10</td>\n",
       "      <td>2.151365</td>\n",
       "      <td>...</td>\n",
       "      <td>1</td>\n",
       "      <td>0</td>\n",
       "      <td>45000.0</td>\n",
       "      <td>715</td>\n",
       "      <td>69.4</td>\n",
       "      <td>9.2</td>\n",
       "      <td>87.03</td>\n",
       "      <td>0</td>\n",
       "      <td>0</td>\n",
       "      <td>0</td>\n",
       "    </tr>\n",
       "    <tr>\n",
       "      <th>2</th>\n",
       "      <td>1</td>\n",
       "      <td>27</td>\n",
       "      <td>-7</td>\n",
       "      <td>25</td>\n",
       "      <td>113</td>\n",
       "      <td>40804.42</td>\n",
       "      <td>24.626795</td>\n",
       "      <td>9.2</td>\n",
       "      <td>222.39</td>\n",
       "      <td>2.361722</td>\n",
       "      <td>...</td>\n",
       "      <td>1</td>\n",
       "      <td>0</td>\n",
       "      <td>45000.0</td>\n",
       "      <td>715</td>\n",
       "      <td>69.4</td>\n",
       "      <td>9.2</td>\n",
       "      <td>87.03</td>\n",
       "      <td>0</td>\n",
       "      <td>0</td>\n",
       "      <td>0</td>\n",
       "    </tr>\n",
       "    <tr>\n",
       "      <th>3</th>\n",
       "      <td>1</td>\n",
       "      <td>28</td>\n",
       "      <td>-7</td>\n",
       "      <td>25</td>\n",
       "      <td>113</td>\n",
       "      <td>40483.89</td>\n",
       "      <td>24.735883</td>\n",
       "      <td>9.2</td>\n",
       "      <td>219.67</td>\n",
       "      <td>1.229172</td>\n",
       "      <td>...</td>\n",
       "      <td>1</td>\n",
       "      <td>0</td>\n",
       "      <td>45000.0</td>\n",
       "      <td>715</td>\n",
       "      <td>69.4</td>\n",
       "      <td>9.2</td>\n",
       "      <td>87.03</td>\n",
       "      <td>0</td>\n",
       "      <td>0</td>\n",
       "      <td>0</td>\n",
       "    </tr>\n",
       "    <tr>\n",
       "      <th>4</th>\n",
       "      <td>1</td>\n",
       "      <td>29</td>\n",
       "      <td>-7</td>\n",
       "      <td>25</td>\n",
       "      <td>113</td>\n",
       "      <td>40367.06</td>\n",
       "      <td>24.925476</td>\n",
       "      <td>9.2</td>\n",
       "      <td>217.37</td>\n",
       "      <td>1.692969</td>\n",
       "      <td>...</td>\n",
       "      <td>1</td>\n",
       "      <td>0</td>\n",
       "      <td>45000.0</td>\n",
       "      <td>715</td>\n",
       "      <td>69.4</td>\n",
       "      <td>9.2</td>\n",
       "      <td>87.03</td>\n",
       "      <td>0</td>\n",
       "      <td>0</td>\n",
       "      <td>0</td>\n",
       "    </tr>\n",
       "  </tbody>\n",
       "</table>\n",
       "<p>5 rows × 23 columns</p>\n",
       "</div>"
      ],
      "text/plain": [
       "   id  time  orig_time  first_time  mat_time  balance_time   LTV_time  \\\n",
       "0   1    25         -7          25       113      41303.42  24.498336   \n",
       "1   1    26         -7          25       113      41061.95  24.483867   \n",
       "2   1    27         -7          25       113      40804.42  24.626795   \n",
       "3   1    28         -7          25       113      40483.89  24.735883   \n",
       "4   1    29         -7          25       113      40367.06  24.925476   \n",
       "\n",
       "   interest_rate_time  hpi_time  gdp_time  ...  REtype_SF_orig_time  \\\n",
       "0                 9.2    226.29  2.899137  ...                    1   \n",
       "1                 9.2    225.10  2.151365  ...                    1   \n",
       "2                 9.2    222.39  2.361722  ...                    1   \n",
       "3                 9.2    219.67  1.229172  ...                    1   \n",
       "4                 9.2    217.37  1.692969  ...                    1   \n",
       "\n",
       "   investor_orig_time  balance_orig_time  FICO_orig_time  LTV_orig_time  \\\n",
       "0                   0            45000.0             715           69.4   \n",
       "1                   0            45000.0             715           69.4   \n",
       "2                   0            45000.0             715           69.4   \n",
       "3                   0            45000.0             715           69.4   \n",
       "4                   0            45000.0             715           69.4   \n",
       "\n",
       "   Interest_Rate_orig_time  hpi_orig_time  default_time  payoff_time  \\\n",
       "0                      9.2          87.03             0            0   \n",
       "1                      9.2          87.03             0            0   \n",
       "2                      9.2          87.03             0            0   \n",
       "3                      9.2          87.03             0            0   \n",
       "4                      9.2          87.03             0            0   \n",
       "\n",
       "   status_time  \n",
       "0            0  \n",
       "1            0  \n",
       "2            0  \n",
       "3            0  \n",
       "4            0  \n",
       "\n",
       "[5 rows x 23 columns]"
      ]
     },
     "execution_count": 2,
     "metadata": {},
     "output_type": "execute_result"
    }
   ],
   "source": [
    "df = pd.read_csv('mortgage.csv')\n",
    "df.head()"
   ]
  },
  {
   "cell_type": "markdown",
   "metadata": {},
   "source": [
    "# Preparing the Data, Feature Engineering and Testing Models\n",
    "\n",
    "The data set mortgage is in panel form and reports origination and performance observations for 50,000 residential U.S. mortgage borrowers over 60 periods. The periods have been identified. As in the real world, loans may originate before the start of the observation period \n",
    "(this is an issue where loans are transferred between banks and investors as in securitization)."
   ]
  },
  {
   "cell_type": "code",
   "execution_count": 3,
   "metadata": {},
   "outputs": [
    {
     "name": "stdout",
     "output_type": "stream",
     "text": [
      "Empty DataFrame\n",
      "Columns: [id, time, orig_time, first_time, mat_time, balance_time, LTV_time, interest_rate_time, hpi_time, gdp_time, uer_time, REtype_CO_orig_time, REtype_PU_orig_time, REtype_SF_orig_time, investor_orig_time, balance_orig_time, FICO_orig_time, LTV_orig_time, Interest_Rate_orig_time, hpi_orig_time, default_time, payoff_time, status_time, time_check]\n",
      "Index: []\n",
      "\n",
      "[0 rows x 24 columns]\n",
      "All time variables follow a logical progression.\n"
     ]
    }
   ],
   "source": [
    "# Checking if any rows violate the logical progression of time\n",
    "df['time_check'] = (df['first_time'] > df['time']) | \\\n",
    "                   (df['orig_time'] > df['time']) | \\\n",
    "                   (df['time'] > df['mat_time'])\n",
    "\n",
    "problematic_rows = df[df['time_check']]\n",
    "print(problematic_rows)\n",
    "\n",
    "if problematic_rows.empty:\n",
    "    print(\"All time variables follow a logical progression.\")\n",
    "else:\n",
    "    print(f\"There are {len(problematic_rows)} rows with time progression issues.\")\n"
   ]
  },
  {
   "cell_type": "code",
   "execution_count": 4,
   "metadata": {},
   "outputs": [
    {
     "name": "stdout",
     "output_type": "stream",
     "text": [
      "0 rows have unrealistic values.\n"
     ]
    }
   ],
   "source": [
    "# Checking for unrealistic values\n",
    "df['unrealistic_balance_flag'] = df['balance_time'].apply(lambda x: 1 if x < 0 else 0)\n",
    "df['unrealistic_LTV_flag'] = df['LTV_time'].apply(lambda x: 1 if x < 0 else 0)\n",
    "df['unrealistic_interest_rate_flag'] = df['interest_rate_time'].apply(lambda x: 1 if x < 0 or x > 40 else 0)\n",
    "\n",
    "# Check how many rows have unrealistic values\n",
    "unrealistic_rows = df[(df['unrealistic_balance_flag'] == 1) | \n",
    "                      (df['unrealistic_LTV_flag'] == 1) | \n",
    "                      (df['unrealistic_interest_rate_flag'] == 1)]\n",
    "\n",
    "print(f\"{len(unrealistic_rows)} rows have unrealistic values.\")"
   ]
  },
  {
   "cell_type": "code",
   "execution_count": 5,
   "metadata": {},
   "outputs": [
    {
     "data": {
      "image/png": "[encoded data removed]",
      "text/plain": [
       "<Figure size 1800x500 with 3 Axes>"
      ]
     },
     "metadata": {},
     "output_type": "display_data"
    }
   ],
   "source": [
    "import matplotlib.pyplot as plt\n",
    "\n",
    "# Create a figure with 1 row and 3 columns of subplots\n",
    "fig, axs = plt.subplots(1, 3, figsize=(18, 5))\n",
    "\n",
    "# Plot distribution for balance_time\n",
    "axs[0].hist(df['balance_time'], bins=50, color='blue', edgecolor='black')\n",
    "axs[0].set_title('Distribution of Balance at Observation Time')\n",
    "axs[0].set_xlabel('Balance')\n",
    "axs[0].set_ylabel('Frequency')\n",
    "\n",
    "# Plot distribution for LTV_time\n",
    "axs[1].hist(df['LTV_time'], bins=50, color='green', edgecolor='black')\n",
    "axs[1].set_title('Distribution of Loan-to-Value Ratio at Observation Time')\n",
    "axs[1].set_xlabel('LTV (%)')\n",
    "axs[1].set_ylabel('Frequency')\n",
    "\n",
    "# Plot distribution for interest_rate_time\n",
    "axs[2].hist(df['interest_rate_time'], bins=50, color='red', edgecolor='black')\n",
    "axs[2].set_title('Distribution of Interest Rate at Observation Time')\n",
    "axs[2].set_xlabel('Interest Rate (%)')\n",
    "axs[2].set_ylabel('Frequency')\n",
    "\n",
    "# Adjust layout to prevent overlap\n",
    "plt.tight_layout()\n",
    "plt.show()\n",
    "\n",
    "\n"
   ]
  },
  {
   "cell_type": "code",
   "execution_count": 6,
   "metadata": {},
   "outputs": [],
   "source": [
    "#Standardizing the predictors to aid optimization by the gradient descent algorithm\n",
    "\n",
    "from sklearn.preprocessing import StandardScaler\n",
    "\n",
    "scaler = StandardScaler()\n",
    "\n",
    "columns_to_standardize = ['balance_time', 'LTV_time', 'interest_rate_time', \n",
    "                          'hpi_time', 'gdp_time', 'uer_time']\n",
    "\n",
    "df[columns_to_standardize] = scaler.fit_transform(df[columns_to_standardize])"
   ]
  },
  {
   "cell_type": "code",
   "execution_count": 7,
   "metadata": {},
   "outputs": [
    {
     "data": {
      "text/html": [
       "<div>\n",
       "<style scoped>\n",
       "    .dataframe tbody tr th:only-of-type {\n",
       "        vertical-align: middle;\n",
       "    }\n",
       "\n",
       "    .dataframe tbody tr th {\n",
       "        vertical-align: top;\n",
       "    }\n",
       "\n",
       "    .dataframe thead th {\n",
       "        text-align: right;\n",
       "    }\n",
       "</style>\n",
       "<table border=\"1\" class=\"dataframe\">\n",
       "  <thead>\n",
       "    <tr style=\"text-align: right;\">\n",
       "      <th></th>\n",
       "      <th>id</th>\n",
       "      <th>time</th>\n",
       "      <th>orig_time</th>\n",
       "      <th>first_time</th>\n",
       "      <th>mat_time</th>\n",
       "      <th>balance_time</th>\n",
       "      <th>LTV_time</th>\n",
       "      <th>interest_rate_time</th>\n",
       "      <th>hpi_time</th>\n",
       "      <th>gdp_time</th>\n",
       "      <th>...</th>\n",
       "      <th>LTV_orig_time</th>\n",
       "      <th>Interest_Rate_orig_time</th>\n",
       "      <th>hpi_orig_time</th>\n",
       "      <th>default_time</th>\n",
       "      <th>payoff_time</th>\n",
       "      <th>status_time</th>\n",
       "      <th>time_check</th>\n",
       "      <th>unrealistic_balance_flag</th>\n",
       "      <th>unrealistic_LTV_flag</th>\n",
       "      <th>unrealistic_interest_rate_flag</th>\n",
       "    </tr>\n",
       "  </thead>\n",
       "  <tbody>\n",
       "    <tr>\n",
       "      <th>0</th>\n",
       "      <td>1</td>\n",
       "      <td>25</td>\n",
       "      <td>-7</td>\n",
       "      <td>25</td>\n",
       "      <td>113</td>\n",
       "      <td>-0.955665</td>\n",
       "      <td>-2.346122</td>\n",
       "      <td>1.201182</td>\n",
       "      <td>1.525729</td>\n",
       "      <td>0.772713</td>\n",
       "      <td>...</td>\n",
       "      <td>69.4</td>\n",
       "      <td>9.2</td>\n",
       "      <td>87.03</td>\n",
       "      <td>0</td>\n",
       "      <td>0</td>\n",
       "      <td>0</td>\n",
       "      <td>False</td>\n",
       "      <td>0</td>\n",
       "      <td>0</td>\n",
       "      <td>0</td>\n",
       "    </tr>\n",
       "    <tr>\n",
       "      <th>1</th>\n",
       "      <td>1</td>\n",
       "      <td>26</td>\n",
       "      <td>-7</td>\n",
       "      <td>25</td>\n",
       "      <td>113</td>\n",
       "      <td>-0.956792</td>\n",
       "      <td>-2.346702</td>\n",
       "      <td>1.201182</td>\n",
       "      <td>1.482692</td>\n",
       "      <td>0.392098</td>\n",
       "      <td>...</td>\n",
       "      <td>69.4</td>\n",
       "      <td>9.2</td>\n",
       "      <td>87.03</td>\n",
       "      <td>0</td>\n",
       "      <td>0</td>\n",
       "      <td>0</td>\n",
       "      <td>False</td>\n",
       "      <td>0</td>\n",
       "      <td>0</td>\n",
       "      <td>0</td>\n",
       "    </tr>\n",
       "    <tr>\n",
       "      <th>2</th>\n",
       "      <td>1</td>\n",
       "      <td>27</td>\n",
       "      <td>-7</td>\n",
       "      <td>25</td>\n",
       "      <td>113</td>\n",
       "      <td>-0.957995</td>\n",
       "      <td>-2.340978</td>\n",
       "      <td>1.201182</td>\n",
       "      <td>1.384684</td>\n",
       "      <td>0.499170</td>\n",
       "      <td>...</td>\n",
       "      <td>69.4</td>\n",
       "      <td>9.2</td>\n",
       "      <td>87.03</td>\n",
       "      <td>0</td>\n",
       "      <td>0</td>\n",
       "      <td>0</td>\n",
       "      <td>False</td>\n",
       "      <td>0</td>\n",
       "      <td>0</td>\n",
       "      <td>0</td>\n",
       "    </tr>\n",
       "    <tr>\n",
       "      <th>3</th>\n",
       "      <td>1</td>\n",
       "      <td>28</td>\n",
       "      <td>-7</td>\n",
       "      <td>25</td>\n",
       "      <td>113</td>\n",
       "      <td>-0.959491</td>\n",
       "      <td>-2.336609</td>\n",
       "      <td>1.201182</td>\n",
       "      <td>1.286314</td>\n",
       "      <td>-0.077296</td>\n",
       "      <td>...</td>\n",
       "      <td>69.4</td>\n",
       "      <td>9.2</td>\n",
       "      <td>87.03</td>\n",
       "      <td>0</td>\n",
       "      <td>0</td>\n",
       "      <td>0</td>\n",
       "      <td>False</td>\n",
       "      <td>0</td>\n",
       "      <td>0</td>\n",
       "      <td>0</td>\n",
       "    </tr>\n",
       "    <tr>\n",
       "      <th>4</th>\n",
       "      <td>1</td>\n",
       "      <td>29</td>\n",
       "      <td>-7</td>\n",
       "      <td>25</td>\n",
       "      <td>113</td>\n",
       "      <td>-0.960037</td>\n",
       "      <td>-2.329015</td>\n",
       "      <td>1.201182</td>\n",
       "      <td>1.203134</td>\n",
       "      <td>0.158775</td>\n",
       "      <td>...</td>\n",
       "      <td>69.4</td>\n",
       "      <td>9.2</td>\n",
       "      <td>87.03</td>\n",
       "      <td>0</td>\n",
       "      <td>0</td>\n",
       "      <td>0</td>\n",
       "      <td>False</td>\n",
       "      <td>0</td>\n",
       "      <td>0</td>\n",
       "      <td>0</td>\n",
       "    </tr>\n",
       "  </tbody>\n",
       "</table>\n",
       "<p>5 rows × 27 columns</p>\n",
       "</div>"
      ],
      "text/plain": [
       "   id  time  orig_time  first_time  mat_time  balance_time  LTV_time  \\\n",
       "0   1    25         -7          25       113     -0.955665 -2.346122   \n",
       "1   1    26         -7          25       113     -0.956792 -2.346702   \n",
       "2   1    27         -7          25       113     -0.957995 -2.340978   \n",
       "3   1    28         -7          25       113     -0.959491 -2.336609   \n",
       "4   1    29         -7          25       113     -0.960037 -2.329015   \n",
       "\n",
       "   interest_rate_time  hpi_time  gdp_time  ...  LTV_orig_time  \\\n",
       "0            1.201182  1.525729  0.772713  ...           69.4   \n",
       "1            1.201182  1.482692  0.392098  ...           69.4   \n",
       "2            1.201182  1.384684  0.499170  ...           69.4   \n",
       "3            1.201182  1.286314 -0.077296  ...           69.4   \n",
       "4            1.201182  1.203134  0.158775  ...           69.4   \n",
       "\n",
       "   Interest_Rate_orig_time  hpi_orig_time  default_time  payoff_time  \\\n",
       "0                      9.2          87.03             0            0   \n",
       "1                      9.2          87.03             0            0   \n",
       "2                      9.2          87.03             0            0   \n",
       "3                      9.2          87.03             0            0   \n",
       "4                      9.2          87.03             0            0   \n",
       "\n",
       "   status_time  time_check  unrealistic_balance_flag  unrealistic_LTV_flag  \\\n",
       "0            0       False                         0                     0   \n",
       "1            0       False                         0                     0   \n",
       "2            0       False                         0                     0   \n",
       "3            0       False                         0                     0   \n",
       "4            0       False                         0                     0   \n",
       "\n",
       "   unrealistic_interest_rate_flag  \n",
       "0                               0  \n",
       "1                               0  \n",
       "2                               0  \n",
       "3                               0  \n",
       "4                               0  \n",
       "\n",
       "[5 rows x 27 columns]"
      ]
     },
     "execution_count": 7,
     "metadata": {},
     "output_type": "execute_result"
    }
   ],
   "source": [
    "df.head()"
   ]
  },
  {
   "cell_type": "markdown",
   "metadata": {},
   "source": [
    "#### Formatting predictors dependent on Time "
   ]
  },
  {
   "cell_type": "code",
   "execution_count": 8,
   "metadata": {},
   "outputs": [],
   "source": [
    "warnings.filterwarnings(\"ignore\", category=pd.errors.SettingWithCopyWarning)\n",
    "\n",
    "\n",
    "data = df[['time', 'orig_time', 'mat_time', 'balance_time', 'LTV_time',\n",
    "            'interest_rate_time', 'hpi_time', 'gdp_time', 'uer_time',\n",
    "            'FICO_orig_time', 'status_time', 'balance_orig_time',\n",
    "            'REtype_SF_orig_time']]\n",
    "\n",
    "data['loan_age'] = data['time'] - data['orig_time'] #How long the loan has been active.\n",
    "\n",
    "data['time_to_maturity'] = data['mat_time'] - data['time'] #How much time is left until the loan matures.\n",
    "\n",
    "data['time_LTV_int'] = data['time'] * data['LTV_time'] # Interaction because LTV is dependent property value which has significant interaction with time\n",
    "\n",
    "\n"
   ]
  },
  {
   "cell_type": "markdown",
   "metadata": {},
   "source": [
    "#### Predictors and Target Variable"
   ]
  },
  {
   "cell_type": "code",
   "execution_count": 9,
   "metadata": {},
   "outputs": [
    {
     "data": {
      "text/plain": [
       "loan_age                 0\n",
       "time_to_maturity         0\n",
       "LTV_time               270\n",
       "time_LTV_int           270\n",
       "interest_rate_time       0\n",
       "hpi_time                 0\n",
       "gdp_time                 0\n",
       "uer_time                 0\n",
       "FICO_orig_time           0\n",
       "status_time              0\n",
       "balance_orig_time        0\n",
       "REtype_SF_orig_time      0\n",
       "dtype: int64"
      ]
     },
     "execution_count": 9,
     "metadata": {},
     "output_type": "execute_result"
    }
   ],
   "source": [
    "X = data[['loan_age', 'time_to_maturity', 'LTV_time', \n",
    "          'time_LTV_int', 'interest_rate_time', 'hpi_time', 'gdp_time',\n",
    "          'uer_time', 'FICO_orig_time', 'status_time','balance_orig_time',\n",
    "          'REtype_SF_orig_time']]\n",
    "\n",
    "y = data['balance_time']\n",
    "\n",
    "X.isna().sum()"
   ]
  },
  {
   "cell_type": "code",
   "execution_count": 10,
   "metadata": {},
   "outputs": [
    {
     "data": {
      "text/plain": [
       "loan_age               0\n",
       "time_to_maturity       0\n",
       "LTV_time               0\n",
       "time_LTV_int           0\n",
       "interest_rate_time     0\n",
       "hpi_time               0\n",
       "gdp_time               0\n",
       "uer_time               0\n",
       "FICO_orig_time         0\n",
       "status_time            0\n",
       "balance_orig_time      0\n",
       "REtype_SF_orig_time    0\n",
       "dtype: int64"
      ]
     },
     "execution_count": 10,
     "metadata": {},
     "output_type": "execute_result"
    }
   ],
   "source": [
    "#Using KNN to deal with the missing LTV values\n",
    "warnings.filterwarnings(\"ignore\", category=pd.errors.SettingWithCopyWarning)\n",
    "\n",
    "\n",
    "from sklearn.impute import KNNImputer\n",
    "\n",
    "imputer = KNNImputer(n_neighbors=5)\n",
    "\n",
    "X[['LTV_time']] = imputer.fit_transform(X[['LTV_time']])\n",
    "X[['time_LTV_int']] = imputer.fit_transform(X[['time_LTV_int']])\n",
    "\n",
    "X.isna().sum()\n"
   ]
  },
  {
   "cell_type": "markdown",
   "metadata": {},
   "source": [
    "#### Train-Test Split"
   ]
  },
  {
   "cell_type": "code",
   "execution_count": 11,
   "metadata": {},
   "outputs": [],
   "source": [
    "from sklearn.model_selection import train_test_split\n",
    "\n",
    "X_train, X_test, y_train, y_test = train_test_split(X, y, test_size= 0.2, random_state= 42)"
   ]
  },
  {
   "cell_type": "markdown",
   "metadata": {},
   "source": [
    "#### Model 1"
   ]
  },
  {
   "cell_type": "code",
   "execution_count": 12,
   "metadata": {},
   "outputs": [
    {
     "name": "stdout",
     "output_type": "stream",
     "text": [
      "                            OLS Regression Results                            \n",
      "==============================================================================\n",
      "Dep. Variable:           balance_time   R-squared:                       0.977\n",
      "Model:                            OLS   Adj. R-squared:                  0.977\n",
      "Method:                 Least Squares   F-statistic:                 1.788e+06\n",
      "Date:                Sat, 07 Sep 2024   Prob (F-statistic):               0.00\n",
      "Time:                        13:48:00   Log-Likelihood:             2.3812e+05\n",
      "No. Observations:              497991   AIC:                        -4.762e+05\n",
      "Df Residuals:                  497978   BIC:                        -4.761e+05\n",
      "Df Model:                          12                                         \n",
      "Covariance Type:            nonrobust                                         \n",
      "=======================================================================================\n",
      "                          coef    std err          t      P>|t|      [0.025      0.975]\n",
      "---------------------------------------------------------------------------------------\n",
      "const                  -1.2739      0.003   -426.381      0.000      -1.280      -1.268\n",
      "loan_age                0.0002   2.81e-05      8.718      0.000       0.000       0.000\n",
      "time_to_maturity        0.0013   1.42e-05     92.050      0.000       0.001       0.001\n",
      "LTV_time               -0.0506      0.001    -58.192      0.000      -0.052      -0.049\n",
      "time_LTV_int            0.0030   2.16e-05    140.491      0.000       0.003       0.003\n",
      "interest_rate_time      0.0120      0.000     46.932      0.000       0.011       0.012\n",
      "hpi_time                0.0239      0.000     60.050      0.000       0.023       0.025\n",
      "gdp_time               -0.0042      0.000    -16.273      0.000      -0.005      -0.004\n",
      "uer_time               -0.0124      0.000    -31.329      0.000      -0.013      -0.012\n",
      "FICO_orig_time      -2.214e-05    3.4e-06     -6.503      0.000   -2.88e-05   -1.55e-05\n",
      "status_time            -0.0078      0.001    -15.535      0.000      -0.009      -0.007\n",
      "balance_orig_time    4.471e-06   1.06e-09   4201.655      0.000    4.47e-06    4.47e-06\n",
      "REtype_SF_orig_time    -0.0037      0.000     -8.376      0.000      -0.005      -0.003\n",
      "==============================================================================\n",
      "Omnibus:                   924781.654   Durbin-Watson:                   1.999\n",
      "Prob(Omnibus):                  0.000   Jarque-Bera (JB):       5497706652.323\n",
      "Skew:                         -13.499   Prob(JB):                         0.00\n",
      "Kurtosis:                     517.029   Cond. No.                     4.74e+06\n",
      "==============================================================================\n",
      "\n",
      "Notes:\n",
      "[1] Standard Errors assume that the covariance matrix of the errors is correctly specified.\n",
      "[2] The condition number is large, 4.74e+06. This might indicate that there are\n",
      "strong multicollinearity or other numerical problems.\n"
     ]
    }
   ],
   "source": [
    "import numpy as np\n",
    "import statsmodels.api as sm\n",
    "\n",
    "# Add a constant term for the intercept\n",
    "X_train_sm = sm.add_constant(X_train)\n",
    "\n",
    "model_1 = sm.OLS(y_train, X_train_sm).fit()\n",
    "\n",
    "print(model_1.summary())"
   ]
  },
  {
   "cell_type": "markdown",
   "metadata": {},
   "source": [
    "#### Predictions for Model 1"
   ]
  },
  {
   "cell_type": "code",
   "execution_count": 13,
   "metadata": {},
   "outputs": [
    {
     "name": "stdout",
     "output_type": "stream",
     "text": [
      "Mean Squared Error: 0.021076428856578084\n",
      "R^2 Score: 0.9795817750400083\n"
     ]
    }
   ],
   "source": [
    "from sklearn.metrics import mean_squared_error, r2_score\n",
    "X_test = X_test\n",
    "X_test = sm.add_constant(X_test)\n",
    "y_pred = model_1.predict(X_test)\n",
    "\n",
    "# Calculate performance metrics\n",
    "mse = mean_squared_error(y_test, y_pred)\n",
    "r2 = r2_score(y_test, y_pred)\n",
    "\n",
    "print(f\"Mean Squared Error: {mse}\")\n",
    "print(f\"R^2 Score: {r2}\")"
   ]
  },
  {
   "cell_type": "code",
   "execution_count": 14,
   "metadata": {},
   "outputs": [
    {
     "name": "stdout",
     "output_type": "stream",
     "text": [
      "                feature         VIF\n",
      "0                 const  197.545441\n",
      "1              loan_age    2.397020\n",
      "2      time_to_maturity    1.977239\n",
      "3              LTV_time   16.645610\n",
      "4          time_LTV_int   15.871091\n",
      "5    interest_rate_time    1.449661\n",
      "6              hpi_time    3.515860\n",
      "7              gdp_time    1.452042\n",
      "8              uer_time    3.466706\n",
      "9        FICO_orig_time    1.320482\n",
      "10          status_time    1.017545\n",
      "11    balance_orig_time    1.202189\n",
      "12  REtype_SF_orig_time    1.022343\n"
     ]
    }
   ],
   "source": [
    "#Aiming for a simpler model by using VIF to check for multicollinearity\n",
    "from statsmodels.stats.outliers_influence import variance_inflation_factor\n",
    "\n",
    "X_vif = X_train_sm\n",
    "# Calculate VIF for each feature\n",
    "vif_data = pd.DataFrame()\n",
    "vif_data['feature'] = X_vif.columns\n",
    "vif_data['VIF'] = [variance_inflation_factor(X_vif.values, i) for i in range(X_vif.shape[1])]\n",
    "\n",
    "\n",
    "print(vif_data)"
   ]
  },
  {
   "cell_type": "markdown",
   "metadata": {},
   "source": [
    "From the VIF values it appears Loan-to-value ratio at observation and its interaction with time, House price index at observation time, and Unemployment rate at observation time are highly correlated. This is probably due to   overlapping information time and needs to be taken from the data. "
   ]
  },
  {
   "cell_type": "code",
   "execution_count": 15,
   "metadata": {},
   "outputs": [
    {
     "data": {
      "text/html": [
       "<div>\n",
       "<style scoped>\n",
       "    .dataframe tbody tr th:only-of-type {\n",
       "        vertical-align: middle;\n",
       "    }\n",
       "\n",
       "    .dataframe tbody tr th {\n",
       "        vertical-align: top;\n",
       "    }\n",
       "\n",
       "    .dataframe thead th {\n",
       "        text-align: right;\n",
       "    }\n",
       "</style>\n",
       "<table border=\"1\" class=\"dataframe\">\n",
       "  <thead>\n",
       "    <tr style=\"text-align: right;\">\n",
       "      <th></th>\n",
       "      <th>const</th>\n",
       "      <th>loan_age</th>\n",
       "      <th>time_to_maturity</th>\n",
       "      <th>interest_rate_time</th>\n",
       "      <th>gdp_time</th>\n",
       "      <th>FICO_orig_time</th>\n",
       "      <th>status_time</th>\n",
       "      <th>balance_orig_time</th>\n",
       "      <th>REtype_SF_orig_time</th>\n",
       "    </tr>\n",
       "  </thead>\n",
       "  <tbody>\n",
       "    <tr>\n",
       "      <th>162215</th>\n",
       "      <td>1.0</td>\n",
       "      <td>31</td>\n",
       "      <td>87</td>\n",
       "      <td>-1.961026</td>\n",
       "      <td>0.171034</td>\n",
       "      <td>702</td>\n",
       "      <td>0</td>\n",
       "      <td>160000.0</td>\n",
       "      <td>1</td>\n",
       "    </tr>\n",
       "    <tr>\n",
       "      <th>124699</th>\n",
       "      <td>1.0</td>\n",
       "      <td>3</td>\n",
       "      <td>118</td>\n",
       "      <td>-0.097367</td>\n",
       "      <td>0.885740</td>\n",
       "      <td>728</td>\n",
       "      <td>2</td>\n",
       "      <td>172800.0</td>\n",
       "      <td>1</td>\n",
       "    </tr>\n",
       "    <tr>\n",
       "      <th>316266</th>\n",
       "      <td>1.0</td>\n",
       "      <td>1</td>\n",
       "      <td>116</td>\n",
       "      <td>0.804403</td>\n",
       "      <td>0.499170</td>\n",
       "      <td>624</td>\n",
       "      <td>0</td>\n",
       "      <td>42000.0</td>\n",
       "      <td>1</td>\n",
       "    </tr>\n",
       "    <tr>\n",
       "      <th>268492</th>\n",
       "      <td>1.0</td>\n",
       "      <td>6</td>\n",
       "      <td>114</td>\n",
       "      <td>0.383577</td>\n",
       "      <td>0.239055</td>\n",
       "      <td>668</td>\n",
       "      <td>0</td>\n",
       "      <td>101430.0</td>\n",
       "      <td>0</td>\n",
       "    </tr>\n",
       "    <tr>\n",
       "      <th>262314</th>\n",
       "      <td>1.0</td>\n",
       "      <td>14</td>\n",
       "      <td>107</td>\n",
       "      <td>-0.518193</td>\n",
       "      <td>-2.131113</td>\n",
       "      <td>794</td>\n",
       "      <td>0</td>\n",
       "      <td>322400.0</td>\n",
       "      <td>0</td>\n",
       "    </tr>\n",
       "  </tbody>\n",
       "</table>\n",
       "</div>"
      ],
      "text/plain": [
       "        const  loan_age  time_to_maturity  interest_rate_time  gdp_time  \\\n",
       "162215    1.0        31                87           -1.961026  0.171034   \n",
       "124699    1.0         3               118           -0.097367  0.885740   \n",
       "316266    1.0         1               116            0.804403  0.499170   \n",
       "268492    1.0         6               114            0.383577  0.239055   \n",
       "262314    1.0        14               107           -0.518193 -2.131113   \n",
       "\n",
       "        FICO_orig_time  status_time  balance_orig_time  REtype_SF_orig_time  \n",
       "162215             702            0           160000.0                    1  \n",
       "124699             728            2           172800.0                    1  \n",
       "316266             624            0            42000.0                    1  \n",
       "268492             668            0           101430.0                    0  \n",
       "262314             794            0           322400.0                    0  "
      ]
     },
     "execution_count": 15,
     "metadata": {},
     "output_type": "execute_result"
    }
   ],
   "source": [
    "predictors_to_remove = ['LTV_time', 'time_LTV_int', \n",
    "                        'hpi_time', 'uer_time']\n",
    "\n",
    "X_train_sm = X_train_sm.drop(columns = predictors_to_remove)\n",
    "\n",
    "X_train_sm.head()\n",
    "\n"
   ]
  },
  {
   "cell_type": "markdown",
   "metadata": {},
   "source": [
    "#### Model 2 (VIF)"
   ]
  },
  {
   "cell_type": "code",
   "execution_count": 16,
   "metadata": {},
   "outputs": [
    {
     "name": "stdout",
     "output_type": "stream",
     "text": [
      "                            OLS Regression Results                            \n",
      "==============================================================================\n",
      "Dep. Variable:           balance_time   R-squared:                       0.974\n",
      "Model:                            OLS   Adj. R-squared:                  0.974\n",
      "Method:                 Least Squares   F-statistic:                 2.343e+06\n",
      "Date:                Sat, 07 Sep 2024   Prob (F-statistic):               0.00\n",
      "Time:                        13:48:04   Log-Likelihood:             2.0528e+05\n",
      "No. Observations:              497991   AIC:                        -4.105e+05\n",
      "Df Residuals:                  497982   BIC:                        -4.104e+05\n",
      "Df Model:                           8                                         \n",
      "Covariance Type:            nonrobust                                         \n",
      "=======================================================================================\n",
      "                          coef    std err          t      P>|t|      [0.025      0.975]\n",
      "---------------------------------------------------------------------------------------\n",
      "const                  -1.3376      0.003   -425.182      0.000      -1.344      -1.331\n",
      "loan_age               -0.0013   2.62e-05    -49.444      0.000      -0.001      -0.001\n",
      "time_to_maturity        0.0025   1.41e-05    174.213      0.000       0.002       0.002\n",
      "interest_rate_time      0.0085      0.000     31.654      0.000       0.008       0.009\n",
      "gdp_time               -0.0041      0.000    -18.050      0.000      -0.005      -0.004\n",
      "FICO_orig_time      -4.345e-05   3.63e-06    -11.954      0.000   -5.06e-05   -3.63e-05\n",
      "status_time            -0.0119      0.001    -22.283      0.000      -0.013      -0.011\n",
      "balance_orig_time    4.455e-06   1.13e-09   3928.715      0.000    4.45e-06    4.46e-06\n",
      "REtype_SF_orig_time    -0.0056      0.000    -11.958      0.000      -0.007      -0.005\n",
      "==============================================================================\n",
      "Omnibus:                   897350.881   Durbin-Watson:                   1.997\n",
      "Prob(Omnibus):                  0.000   Jarque-Bera (JB):       4100394187.113\n",
      "Skew:                         -12.696   Prob(JB):                         0.00\n",
      "Kurtosis:                     446.811   Cond. No.                     4.67e+06\n",
      "==============================================================================\n",
      "\n",
      "Notes:\n",
      "[1] Standard Errors assume that the covariance matrix of the errors is correctly specified.\n",
      "[2] The condition number is large, 4.67e+06. This might indicate that there are\n",
      "strong multicollinearity or other numerical problems.\n"
     ]
    }
   ],
   "source": [
    "model_2 = sm.OLS(y_train, X_train_sm).fit()\n",
    "\n",
    "print(model_2.summary())"
   ]
  },
  {
   "cell_type": "markdown",
   "metadata": {},
   "source": [
    "#### Prediction for Model 2"
   ]
  },
  {
   "cell_type": "code",
   "execution_count": 17,
   "metadata": {},
   "outputs": [
    {
     "name": "stdout",
     "output_type": "stream",
     "text": [
      "Mean Squared Error: 0.02431703535844098\n",
      "R^2 Score: 0.9764423706839807\n"
     ]
    }
   ],
   "source": [
    "from sklearn.metrics import mean_squared_error, r2_score\n",
    "\n",
    "X_test = X_test.drop(columns = ['LTV_time', 'time_LTV_int','hpi_time', 'uer_time'])\n",
    "X_test = sm.add_constant(X_test)\n",
    "y_pred = model_2.predict(X_test)\n",
    "\n",
    "# Calculate performance metrics\n",
    "mse = mean_squared_error(y_test, y_pred)\n",
    "r2 = r2_score(y_test, y_pred)\n",
    "\n",
    "print(f\"Mean Squared Error: {mse}\")\n",
    "print(f\"R^2 Score: {r2}\")"
   ]
  },
  {
   "cell_type": "markdown",
   "metadata": {},
   "source": [
    "# Reducing Model Complexity"
   ]
  },
  {
   "cell_type": "code",
   "execution_count": 18,
   "metadata": {},
   "outputs": [
    {
     "data": {
      "text/html": [
       "<div>\n",
       "<style scoped>\n",
       "    .dataframe tbody tr th:only-of-type {\n",
       "        vertical-align: middle;\n",
       "    }\n",
       "\n",
       "    .dataframe tbody tr th {\n",
       "        vertical-align: top;\n",
       "    }\n",
       "\n",
       "    .dataframe thead th {\n",
       "        text-align: right;\n",
       "    }\n",
       "</style>\n",
       "<table border=\"1\" class=\"dataframe\">\n",
       "  <thead>\n",
       "    <tr style=\"text-align: right;\">\n",
       "      <th></th>\n",
       "      <th>Feature</th>\n",
       "      <th>Coefficient</th>\n",
       "    </tr>\n",
       "  </thead>\n",
       "  <tbody>\n",
       "    <tr>\n",
       "      <th>0</th>\n",
       "      <td>const</td>\n",
       "      <td>0.000000</td>\n",
       "    </tr>\n",
       "    <tr>\n",
       "      <th>1</th>\n",
       "      <td>loan_age</td>\n",
       "      <td>-0.000706</td>\n",
       "    </tr>\n",
       "    <tr>\n",
       "      <th>2</th>\n",
       "      <td>time_to_maturity</td>\n",
       "      <td>0.002456</td>\n",
       "    </tr>\n",
       "    <tr>\n",
       "      <th>3</th>\n",
       "      <td>interest_rate_time</td>\n",
       "      <td>0.000000</td>\n",
       "    </tr>\n",
       "    <tr>\n",
       "      <th>4</th>\n",
       "      <td>gdp_time</td>\n",
       "      <td>-0.000000</td>\n",
       "    </tr>\n",
       "    <tr>\n",
       "      <th>5</th>\n",
       "      <td>FICO_orig_time</td>\n",
       "      <td>-0.000055</td>\n",
       "    </tr>\n",
       "    <tr>\n",
       "      <th>6</th>\n",
       "      <td>status_time</td>\n",
       "      <td>-0.000000</td>\n",
       "    </tr>\n",
       "    <tr>\n",
       "      <th>7</th>\n",
       "      <td>balance_orig_time</td>\n",
       "      <td>0.000004</td>\n",
       "    </tr>\n",
       "    <tr>\n",
       "      <th>8</th>\n",
       "      <td>REtype_SF_orig_time</td>\n",
       "      <td>-0.000000</td>\n",
       "    </tr>\n",
       "  </tbody>\n",
       "</table>\n",
       "</div>"
      ],
      "text/plain": [
       "               Feature  Coefficient\n",
       "0                const     0.000000\n",
       "1             loan_age    -0.000706\n",
       "2     time_to_maturity     0.002456\n",
       "3   interest_rate_time     0.000000\n",
       "4             gdp_time    -0.000000\n",
       "5       FICO_orig_time    -0.000055\n",
       "6          status_time    -0.000000\n",
       "7    balance_orig_time     0.000004\n",
       "8  REtype_SF_orig_time    -0.000000"
      ]
     },
     "execution_count": 18,
     "metadata": {},
     "output_type": "execute_result"
    }
   ],
   "source": [
    "from sklearn.linear_model import Lasso\n",
    "from sklearn.metrics import mean_squared_error, r2_score\n",
    "\n",
    "lasso = Lasso(alpha=0.1)  \n",
    "\n",
    "lasso.fit(X_train_sm, y_train)\n",
    "\n",
    "coefficients = lasso.coef_\n",
    "\n",
    "coef_df = pd.DataFrame({\n",
    "    'Feature': X_train_sm.columns,\n",
    "    'Coefficient': coefficients\n",
    "})\n",
    "\n",
    "coef_df\n"
   ]
  },
  {
   "cell_type": "markdown",
   "metadata": {},
   "source": [
    "### Feature Selection for  Model Simplicity by Comparing: (LASSO, RFE & Feature Importance of LR)"
   ]
  },
  {
   "cell_type": "code",
   "execution_count": 19,
   "metadata": {},
   "outputs": [
    {
     "data": {
      "text/plain": [
       "['loan_age',\n",
       " 'interest_rate_time',\n",
       " 'gdp_time',\n",
       " 'status_time',\n",
       " 'REtype_SF_orig_time']"
      ]
     },
     "execution_count": 19,
     "metadata": {},
     "output_type": "execute_result"
    }
   ],
   "source": [
    "from sklearn.feature_selection import RFE\n",
    "from sklearn.linear_model import LinearRegression, Lasso\n",
    "\n",
    "# 1. Recursive Feature Elimination\n",
    "rfe = RFE(estimator=LinearRegression(), n_features_to_select=5)\n",
    "rfe = rfe.fit(X_train_sm, y_train)\n",
    "selected_features_rfe = X_train_sm.columns[rfe.support_].tolist()\n",
    "\n",
    "selected_features_rfe"
   ]
  },
  {
   "cell_type": "code",
   "execution_count": 20,
   "metadata": {},
   "outputs": [
    {
     "data": {
      "text/plain": [
       "['loan_age', 'time_to_maturity', 'FICO_orig_time', 'balance_orig_time']"
      ]
     },
     "execution_count": 20,
     "metadata": {},
     "output_type": "execute_result"
    }
   ],
   "source": [
    "# 2. Lasso with higher alpha\n",
    "lasso = Lasso(alpha=0.1)  # Adjust alpha as needed\n",
    "lasso.fit(X_train_sm, y_train)\n",
    "selected_features_lasso = X_train_sm.columns[lasso.coef_ != 0].tolist()\n",
    "\n",
    "selected_features_lasso"
   ]
  },
  {
   "cell_type": "code",
   "execution_count": 21,
   "metadata": {},
   "outputs": [
    {
     "data": {
      "text/plain": [
       "['status_time',\n",
       " 'interest_rate_time',\n",
       " 'REtype_SF_orig_time',\n",
       " 'gdp_time',\n",
       " 'time_to_maturity']"
      ]
     },
     "execution_count": 21,
     "metadata": {},
     "output_type": "execute_result"
    }
   ],
   "source": [
    "# 3. Feature Importance using LinearRegression coefficients\n",
    "lr = LinearRegression()\n",
    "lr.fit(X_train_sm, y_train)\n",
    "feature_importance = pd.Series(np.abs(lr.coef_), index=X_train_sm.columns).sort_values(ascending=False)\n",
    "selected_features_importance = feature_importance.head(5).index.tolist()\n",
    "\n",
    "selected_features_importance"
   ]
  },
  {
   "cell_type": "markdown",
   "metadata": {},
   "source": [
    "### Model Evaluation -- Comparing to Models from the Feature Selection"
   ]
  },
  {
   "cell_type": "code",
   "execution_count": 22,
   "metadata": {},
   "outputs": [
    {
     "name": "stdout",
     "output_type": "stream",
     "text": [
      "Model_2_VIF:\n",
      "  MSE: 0.025400\n",
      "  R2: 0.974600\n",
      "\n",
      "RFE:\n",
      "  MSE: 0.873319\n",
      "  R2: 0.126681\n",
      "  Selected Features: loan_age, interest_rate_time, gdp_time, status_time, REtype_SF_orig_time\n",
      "\n",
      "Lasso:\n",
      "  MSE: 0.025512\n",
      "  R2: 0.974488\n",
      "  Selected Features: loan_age, time_to_maturity, FICO_orig_time, balance_orig_time\n",
      "\n",
      "Feature Importance:\n",
      "  MSE: 0.871953\n",
      "  R2: 0.128047\n",
      "\n"
     ]
    }
   ],
   "source": [
    "feature_columns = ['loan_age', 'time_to_maturity', 'interest_rate_time', 'gdp_time',\n",
    "                    'FICO_orig_time', 'status_time','balance_orig_time',\n",
    "                        \t'REtype_SF_orig_time']\n",
    "\n",
    "target_column = 'balance_time'\n",
    "\n",
    "X = data[feature_columns]\n",
    "y = data[target_column]\n",
    "\n",
    "\n",
    "def evaluate_model(X, y, features):\n",
    "    X_selected = X[features]\n",
    "    model = LinearRegression()\n",
    "    model.fit(X_selected, y)\n",
    "    y_pred = model.predict(X_selected)\n",
    "    mse = mean_squared_error(y, y_pred)\n",
    "    r2 = r2_score(y, y_pred)\n",
    "    return mse, r2\n",
    "\n",
    "# Evaluating each feature selection method\n",
    "results = {\n",
    "    'Model_2_VIF': evaluate_model(X, y, feature_columns),\n",
    "    'RFE': evaluate_model(X, y, selected_features_rfe),\n",
    "    'Lasso': evaluate_model(X, y, selected_features_lasso),\n",
    "    'Feature Importance': evaluate_model(X, y, selected_features_importance)\n",
    "}\n",
    "\n",
    "for method, (mse, r2) in results.items():\n",
    "    print(f\"{method}:\")\n",
    "    print(f\"  MSE: {mse:.6f}\")\n",
    "    print(f\"  R2: {r2:.6f}\")\n",
    "    if method != 'Model_2_VIF':\n",
    "        feature_var_name = f\"selected_features_{method.lower().replace(' ', '_')}\"\n",
    "        if feature_var_name in locals():\n",
    "            print(f\"  Selected Features: {', '.join(locals()[feature_var_name])}\")\n",
    "    print()"
   ]
  },
  {
   "cell_type": "markdown",
   "metadata": {},
   "source": [
    "The Lasso model will be used for better simplicity and high accuracy"
   ]
  },
  {
   "cell_type": "markdown",
   "metadata": {},
   "source": [
    "# Model Performance Summary"
   ]
  },
  {
   "cell_type": "code",
   "execution_count": 23,
   "metadata": {},
   "outputs": [
    {
     "data": {
      "image/png": "[encoded data removed]",
      "text/plain": [
       "<Figure size 1200x600 with 2 Axes>"
      ]
     },
     "metadata": {},
     "output_type": "display_data"
    }
   ],
   "source": [
    "\n",
    "methods = list(results.keys())\n",
    "mse_values = [results[method][0] for method in methods]\n",
    "r2_values = [results[method][1] for method in methods]\n",
    "\n",
    "# Plotting MSE\n",
    "plt.figure(figsize=(12, 6))\n",
    "\n",
    "plt.subplot(1, 2, 1)\n",
    "plt.barh(methods, mse_values, color='lightblue')\n",
    "plt.xlabel('MSE')\n",
    "plt.title('Mean Squared Error by Method')\n",
    "\n",
    "# Plotting R²\n",
    "plt.subplot(1, 2, 2)\n",
    "plt.barh(methods, r2_values, color='green')\n",
    "plt.xlabel('R²')\n",
    "plt.title('R² by Method')\n",
    "\n",
    "plt.tight_layout()\n",
    "plt.show()\n"
   ]
  },
  {
   "cell_type": "markdown",
   "metadata": {},
   "source": [
    "### DIAGNOSTIC PLOTS"
   ]
  },
  {
   "cell_type": "code",
   "execution_count": 24,
   "metadata": {},
   "outputs": [
    {
     "data": {
      "image/png": "[encoded data removed]",
      "text/plain": [
       "<Figure size 1400x1000 with 5 Axes>"
      ]
     },
     "metadata": {},
     "output_type": "display_data"
    }
   ],
   "source": [
    "import numpy as np\n",
    "import matplotlib.pyplot as plt\n",
    "import seaborn as sns\n",
    "import scipy.stats as stats\n",
    "import statsmodels.api as sm\n",
    "from sklearn.linear_model import Lasso\n",
    "from sklearn.metrics import mean_squared_error, r2_score\n",
    "\n",
    "# Assuming you have already split your data into X_train_sm, X_test_sm, y_train, and y_test\n",
    "\n",
    "# Fit the Lasso model\n",
    "lasso = Lasso(alpha=0.1)\n",
    "lasso.fit(X_train_sm[['loan_age', 'time_to_maturity', 'FICO_orig_time', 'balance_orig_time']], y_train)\n",
    "\n",
    "# Predict on test data\n",
    "y_pred = lasso.predict(X_test[['loan_age', 'time_to_maturity', 'FICO_orig_time', 'balance_orig_time']])\n",
    "\n",
    "# Calculate residuals\n",
    "residuals = y_test - y_pred\n",
    "\n",
    "# Prepare the subplots\n",
    "fig, axs = plt.subplots(2, 2, figsize=(14, 10))\n",
    "\n",
    "# 1. Residuals vs. Fitted Values Plot\n",
    "axs[0, 0].scatter(y_pred, residuals, color='blue', alpha=0.5)\n",
    "axs[0, 0].axhline(0, color='red', linestyle='--')\n",
    "axs[0, 0].set_xlabel('Fitted Values')\n",
    "axs[0, 0].set_ylabel('Residuals')\n",
    "axs[0, 0].set_title('Residuals vs Fitted Values (Lasso)')\n",
    "\n",
    "# 2. Q-Q Plot\n",
    "stats.probplot(residuals, dist=\"norm\", plot=axs[0, 1])\n",
    "axs[0, 1].set_title('Q-Q Plot (Lasso)')\n",
    "\n",
    "# 3. Scale-Location Plot\n",
    "standardized_residuals = residuals / np.std(residuals)\n",
    "sqrt_abs_residuals = np.sqrt(np.abs(standardized_residuals))\n",
    "axs[1, 0].scatter(y_pred, sqrt_abs_residuals, color='blue', alpha=0.5)\n",
    "axs[1, 0].axhline(y=np.mean(sqrt_abs_residuals), color='red', linestyle='--')\n",
    "axs[1, 0].set_xlabel('Fitted Values')\n",
    "axs[1, 0].set_ylabel('Square Root of |Standardized Residuals|')\n",
    "axs[1, 0].set_title('Scale-Location Plot (Lasso)')\n",
    "\n",
    "# 4. Residuals vs. Leverage Plot\n",
    "X_test_sm_with_const = sm.add_constant(X_test)\n",
    "model = sm.OLS(y_test, X_test_sm_with_const).fit()\n",
    "influence = model.get_influence()\n",
    "leverage = influence.hat_matrix_diag\n",
    "cooks_d = influence.cooks_distance[0]\n",
    "scatter = axs[1, 1].scatter(leverage, residuals, c=cooks_d, cmap='coolwarm', alpha=0.5)\n",
    "axs[1, 1].set_xlabel('Leverage')\n",
    "axs[1, 1].set_ylabel('Residuals')\n",
    "axs[1, 1].set_title('Residuals vs Leverage Plot (Lasso)')\n",
    "fig.colorbar(scatter, ax=axs[1, 1], label='Cook\\'s Distance')\n",
    "\n",
    "plt.tight_layout()\n",
    "plt.show()\n"
   ]
  },
  {
   "cell_type": "markdown",
   "metadata": {},
   "source": [
    "The model shows good overall performance metrics, the diagnostic plots reveal issues with the model's structure as it violates some assumptions. This suggests that while the model may be useful for predictions (which is the purpose of this project), a different statistical model will be suited for making inferences."
   ]
  },
  {
   "cell_type": "markdown",
   "metadata": {},
   "source": [
    "# Cross Validation"
   ]
  },
  {
   "cell_type": "code",
   "execution_count": 25,
   "metadata": {},
   "outputs": [],
   "source": [
    "from sklearn.model_selection import cross_val_score, KFold\n",
    "from sklearn.metrics import make_scorer, mean_squared_error, r2_score"
   ]
  },
  {
   "cell_type": "code",
   "execution_count": 26,
   "metadata": {},
   "outputs": [],
   "source": [
    "def custom_scorer(estimator, X, y):\n",
    "    y_pred = estimator.predict(X)\n",
    "    mse = mean_squared_error(y, y_pred)\n",
    "    r2 = r2_score(y, y_pred)\n",
    "    return mse, r2\n"
   ]
  },
  {
   "cell_type": "code",
   "execution_count": 27,
   "metadata": {},
   "outputs": [
    {
     "name": "stdout",
     "output_type": "stream",
     "text": [
      "Mean MSE: 0.0256 ± 0.0013\n",
      "Mean R²: 0.9744 ± 0.0014\n"
     ]
    }
   ],
   "source": [
    "lasso = Lasso(alpha=0.1)\n",
    "\n",
    "\n",
    "kf = KFold(n_splits=5, shuffle=True, random_state=42)\n",
    "\n",
    "\n",
    "mse_scores = []\n",
    "r2_scores = []\n",
    "\n",
    "for train_index, test_index in kf.split(X):\n",
    "    X_train, X_test = X.iloc[train_index], X.iloc[test_index]\n",
    "    y_train, y_test = y.iloc[train_index], y.iloc[test_index]\n",
    "    \n",
    "    lasso.fit(X_train, y_train)\n",
    "    y_pred = lasso.predict(X_test)\n",
    "    \n",
    "    mse_scores.append(mean_squared_error(y_test, y_pred))\n",
    "    r2_scores.append(r2_score(y_test, y_pred))\n",
    "\n",
    "# Convert to numpy arrays for easy manipulation\n",
    "mse_scores = np.array(mse_scores)\n",
    "r2_scores = np.array(r2_scores)\n",
    "\n",
    "# Print results\n",
    "print(f\"Mean MSE: {mse_scores.mean():.4f} ± {mse_scores.std():.4f}\")\n",
    "print(f\"Mean R²: {r2_scores.mean():.4f} ± {r2_scores.std():.4f}\")\n",
    "\n"
   ]
  },
  {
   "cell_type": "markdown",
   "metadata": {},
   "source": [
    "The model achieves a high R² and low MSE, indicating strong predictive performance and good generalization across different subsets of the data. The low standard deviation in both MSE and R² suggests that the model’s performance is stable and not overly sensitive to the choice of training and test data splits"
   ]
  },
  {
   "cell_type": "markdown",
   "metadata": {},
   "source": [
    "# Hyperparameter Tuning"
   ]
  },
  {
   "cell_type": "code",
   "execution_count": 28,
   "metadata": {},
   "outputs": [],
   "source": [
    "from sklearn.model_selection import GridSearchCV\n",
    "\n",
    "param_grid = {\n",
    "    'alpha': np.logspace(-4, 4, 50)  # Search for alpha values in the range from 0.0001 to 10000\n",
    "}\n"
   ]
  },
  {
   "cell_type": "code",
   "execution_count": 29,
   "metadata": {},
   "outputs": [
    {
     "name": "stdout",
     "output_type": "stream",
     "text": [
      "Fitting 5 folds for each of 50 candidates, totalling 250 fits\n",
      "Best Alpha: 0.0001\n",
      "Best Score (Negative MSE): -0.0261\n"
     ]
    }
   ],
   "source": [
    "lasso = Lasso()\n",
    "\n",
    "grid_search = GridSearchCV(estimator=lasso, param_grid=param_grid, \n",
    "                           scoring='neg_mean_squared_error', \n",
    "                           cv=5, n_jobs=-1, verbose=1)\n",
    "\n",
    "grid_search.fit(X_train, y_train)\n",
    "\n",
    "# the best parameters and best score\n",
    "best_params = grid_search.best_params_\n",
    "best_score = grid_search.best_score_\n",
    "\n",
    "print(f\"Best Alpha: {best_params['alpha']}\")\n",
    "print(f\"Best Score (Negative MSE): {best_score:.4f}\")\n"
   ]
  },
  {
   "cell_type": "markdown",
   "metadata": {},
   "source": [
    "### Using the best alpha for the Lasso Model"
   ]
  },
  {
   "cell_type": "code",
   "execution_count": 30,
   "metadata": {},
   "outputs": [
    {
     "name": "stdout",
     "output_type": "stream",
     "text": [
      "Mean MSE: 0.0254 ± 0.0013\n",
      "Mean R²: 0.9746 ± 0.0014\n"
     ]
    }
   ],
   "source": [
    "lasso = Lasso(alpha=0.0001)\n",
    "\n",
    "\n",
    "kf = KFold(n_splits=5, shuffle=True, random_state=42)\n",
    "\n",
    "\n",
    "mse_scores = []\n",
    "r2_scores = []\n",
    "\n",
    "for train_index, test_index in kf.split(X):\n",
    "    X_train, X_test = X.iloc[train_index], X.iloc[test_index]\n",
    "    y_train, y_test = y.iloc[train_index], y.iloc[test_index]\n",
    "    \n",
    "    lasso.fit(X_train, y_train)\n",
    "    y_pred = lasso.predict(X_test)\n",
    "    \n",
    "    mse_scores.append(mean_squared_error(y_test, y_pred))\n",
    "    r2_scores.append(r2_score(y_test, y_pred))\n",
    "\n",
    "# Convert to numpy arrays for easy manipulation\n",
    "mse_scores = np.array(mse_scores)\n",
    "r2_scores = np.array(r2_scores)\n",
    "\n",
    "# Print results\n",
    "print(f\"Mean MSE: {mse_scores.mean():.4f} ± {mse_scores.std():.4f}\")\n",
    "print(f\"Mean R²: {r2_scores.mean():.4f} ± {r2_scores.std():.4f}\")"
   ]
  },
  {
   "cell_type": "markdown",
   "metadata": {},
   "source": [
    "## Optimal Regression Model"
   ]
  },
  {
   "cell_type": "code",
   "execution_count": 31,
   "metadata": {},
   "outputs": [
    {
     "name": "stdout",
     "output_type": "stream",
     "text": [
      "Final Model Alpha: 0.0001\n",
      "Test MSE: 0.0243\n",
      "Test R²: 0.9754\n"
     ]
    }
   ],
   "source": [
    "best_alpha = best_params['alpha']\n",
    "\n",
    "final_lasso = Lasso(alpha=0.1)\n",
    "final_lasso.fit(X_train, y_train)\n",
    "\n",
    "# Predict and evaluate on the test set\n",
    "y_pred = final_lasso.predict(X_test)\n",
    "mse = mean_squared_error(y_test, y_pred)\n",
    "r2 = r2_score(y_test, y_pred)\n",
    "\n",
    "print(f\"Final Model Alpha: {best_alpha}\")\n",
    "print(f\"Test MSE: {mse:.4f}\")\n",
    "print(f\"Test R²: {r2:.4f}\")\n"
   ]
  },
  {
   "cell_type": "code",
   "execution_count": 32,
   "metadata": {},
   "outputs": [
    {
     "name": "stdout",
     "output_type": "stream",
     "text": [
      "time_to_maturity       0.002449\n",
      "balance_orig_time      0.000004\n",
      "interest_rate_time     0.000000\n",
      "gdp_time              -0.000000\n",
      "status_time           -0.000000\n",
      "REtype_SF_orig_time   -0.000000\n",
      "FICO_orig_time        -0.000057\n",
      "loan_age              -0.000725\n",
      "dtype: float64\n"
     ]
    }
   ],
   "source": [
    "# Get coefficients\n",
    "coefficients = pd.Series(final_lasso.coef_, index=X_train.columns).sort_values(ascending=False)\n",
    "print(coefficients)"
   ]
  },
  {
   "cell_type": "code",
   "execution_count": 33,
   "metadata": {},
   "outputs": [
    {
     "name": "stdout",
     "output_type": "stream",
     "text": [
      "Selected Features: ['loan_age', 'time_to_maturity', 'FICO_orig_time', 'balance_orig_time']\n"
     ]
    }
   ],
   "source": [
    "selected_features = X_train.columns[final_lasso.coef_ != 0].tolist()\n",
    "print(f\"Selected Features: {selected_features}\")\n"
   ]
  },
  {
   "cell_type": "markdown",
   "metadata": {},
   "source": [
    "# Model Formula"
   ]
  },
  {
   "cell_type": "code",
   "execution_count": 34,
   "metadata": {},
   "outputs": [
    {
     "name": "stdout",
     "output_type": "stream",
     "text": [
      "Final Model Formula: y = -1.340070 + -0.000725*loan_age + 0.002449*time_to_maturity + -0.000057*FICO_orig_time + 0.000004*balance_orig_time\n"
     ]
    }
   ],
   "source": [
    "intercept = final_lasso.intercept_\n",
    "coefficients = final_lasso.coef_\n",
    "\n",
    "# REGRESSION MODEL\n",
    "feature_names = X_train.columns\n",
    "formula = f\"y = {intercept:.6f} + \" + \" + \".join([f\"{coeff:.6f}*{name}\" for coeff, name in zip(coefficients, feature_names) if coeff != 0])\n",
    "print(f\"Final Model Formula: {formula}\")\n"
   ]
  },
  {
   "cell_type": "markdown",
   "metadata": {},
   "source": [
    "- The final Lasso regression model suggests that the outstanding balance at the observation time (balance_time) is influenced by several key factors. As the loan ages, the balance decreases slightly, indicating the effect regular repayments by borrowers. \n",
    "\n",
    "- Conversely, a longer time to maturity is associated with a higher outstanding balance, reflecting the loan's extended duration without full repayment. \n",
    "\n",
    "- A higher FICO score at origination correlates with a lower outstanding balance, suggesting that borrowers with better credit scores tend to have lower balances over time. \n",
    "\n",
    "- The balance at origination was not too significant in predicting the balance at observation time after applying regularization. \n",
    "\n",
    "This model highlights the dynamics between loan characteristics and the outstanding balance, providing insights into how these factors influence financial outcomes."
   ]
  },
  {
   "cell_type": "markdown",
   "metadata": {},
   "source": [
    "# Pipeline for Deployment"
   ]
  },
  {
   "cell_type": "code",
   "execution_count": 35,
   "metadata": {},
   "outputs": [
    {
     "name": "stdout",
     "output_type": "stream",
     "text": [
      "Loan Mortgage Pipeline Test MSE: 0.0241\n",
      "Loan Mortgage Pipeline Test R²: 0.9756\n"
     ]
    }
   ],
   "source": [
    "from sklearn.pipeline import Pipeline\n",
    "\n",
    "LoanMortgage_pipeline = Pipeline([\n",
    "    ('scaler', StandardScaler()),  # scaling used in training\n",
    "    ('lasso', Lasso(alpha=best_alpha))\n",
    "])\n",
    "\n",
    "# Fitting the pipeline on the training data\n",
    "LoanMortgage_pipeline.fit(X_train, y_train)\n",
    "\n",
    "# Evaluate on test data\n",
    "y_pred = LoanMortgage_pipeline.predict(X_test)\n",
    "mse = mean_squared_error(y_test, y_pred)\n",
    "r2 = r2_score(y_test, y_pred)\n",
    "\n",
    "print(f\"Loan Mortgage Pipeline Test MSE: {mse:.4f}\")\n",
    "print(f\"Loan Mortgage Pipeline Test R²: {r2:.4f}\")\n"
   ]
  },
  {
   "cell_type": "markdown",
   "metadata": {},
   "source": [
    "# Saving the optimal model as a Pipeline"
   ]
  },
  {
   "cell_type": "code",
   "execution_count": 36,
   "metadata": {},
   "outputs": [
    {
     "data": {
      "text/plain": [
       "['lasso_pipeline.pkl']"
      ]
     },
     "execution_count": 36,
     "metadata": {},
     "output_type": "execute_result"
    }
   ],
   "source": [
    "import joblib\n",
    "\n",
    "# Save the pipeline\n",
    "joblib.dump(LoanMortgage_pipeline, 'lasso_pipeline.pkl')\n",
    "\n",
    "# loaded_pipeline = joblib.load('lasso_pipeline.pkl')\n"
   ]
  },
  {
   "cell_type": "code",
   "execution_count": null,
   "metadata": {},
   "outputs": [],
   "source": []
  }
 ],
 "metadata": {
  "kernelspec": {
   "display_name": "base",
   "language": "python",
   "name": "python3"
  },
  "language_info": {
   "codemirror_mode": {
    "name": "ipython",
    "version": 3
   },
   "file_extension": ".py",
   "mimetype": "text/x-python",
   "name": "python",
   "nbconvert_exporter": "python",
   "pygments_lexer": "ipython3",
   "version": "3.11.9"
  }
 },
 "nbformat": 4,
 "nbformat_minor": 2
}
